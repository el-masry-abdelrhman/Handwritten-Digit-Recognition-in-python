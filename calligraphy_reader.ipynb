{
  "cells": [
    {
      "cell_type": "markdown",
      "metadata": {
        "id": "TlrRee9f7nXU"
      },
      "source": [
        "# **Caligraphy reader model with skealrn**"
      ]
    },
    {
      "cell_type": "markdown",
      "metadata": {
        "id": "6roiWTfP7v4_"
      },
      "source": [
        "# **Data preparation**"
      ]
    },
    {
      "cell_type": "code",
      "execution_count": 40,
      "metadata": {
        "colab": {
          "base_uri": "https://localhost:8080/"
        },
        "id": "Mzhz668v7kG7",
        "outputId": "35970aef-b85f-411f-a2e2-4ca0272be157"
      },
      "outputs": [
        {
          "output_type": "stream",
          "name": "stderr",
          "text": [
            "/usr/local/lib/python3.10/dist-packages/sklearn/datasets/_openml.py:968: FutureWarning: The default value of `parser` will change from `'liac-arff'` to `'auto'` in 1.4. You can set `parser='auto'` to silence this warning. Therefore, an `ImportError` will be raised from 1.4 if the dataset is dense and pandas is not installed. Note that the pandas parser may return different data types. See the Notes Section in fetch_openml's API doc for details.\n",
            "  warn(\n"
          ]
        }
      ],
      "source": [
        "from sklearn.datasets import fetch_openml\n",
        "\n",
        "mnist = fetch_openml(\"mnist_784\", as_frame = False)"
      ]
    },
    {
      "cell_type": "code",
      "execution_count": 41,
      "metadata": {
        "colab": {
          "base_uri": "https://localhost:8080/"
        },
        "id": "FkU4sTlw8GFt",
        "outputId": "d98c205d-935e-44ae-d124-1a38daa0219d"
      },
      "outputs": [
        {
          "output_type": "execute_result",
          "data": {
            "text/plain": [
              "array([[0., 0., 0., ..., 0., 0., 0.],\n",
              "       [0., 0., 0., ..., 0., 0., 0.],\n",
              "       [0., 0., 0., ..., 0., 0., 0.],\n",
              "       ...,\n",
              "       [0., 0., 0., ..., 0., 0., 0.],\n",
              "       [0., 0., 0., ..., 0., 0., 0.],\n",
              "       [0., 0., 0., ..., 0., 0., 0.]])"
            ]
          },
          "metadata": {},
          "execution_count": 41
        }
      ],
      "source": [
        "X = mnist.data\n",
        "y = mnist.target\n",
        "X"
      ]
    },
    {
      "cell_type": "code",
      "execution_count": 42,
      "metadata": {
        "colab": {
          "base_uri": "https://localhost:8080/"
        },
        "id": "caBPPRZl8XEH",
        "outputId": "bf69f2a2-73d3-4a11-a2e5-428176757ccf"
      },
      "outputs": [
        {
          "output_type": "execute_result",
          "data": {
            "text/plain": [
              "array(['5', '0', '4', ..., '4', '5', '6'], dtype=object)"
            ]
          },
          "metadata": {},
          "execution_count": 42
        }
      ],
      "source": [
        "y"
      ]
    },
    {
      "cell_type": "code",
      "execution_count": 43,
      "metadata": {
        "colab": {
          "base_uri": "https://localhost:8080/"
        },
        "id": "pX6tyI-s8Yzs",
        "outputId": "6b141f87-02ff-4799-bb76-65d9a0a3cdde"
      },
      "outputs": [
        {
          "output_type": "stream",
          "name": "stdout",
          "text": [
            "X.shape = (70000, 784)\n",
            "y.shape = (70000,)\n"
          ]
        }
      ],
      "source": [
        "print(f'X.shape = {X.shape}')\n",
        "print(f'y.shape = {y.shape}')"
      ]
    },
    {
      "cell_type": "markdown",
      "metadata": {
        "id": "jkthmA4i-TO7"
      },
      "source": [
        "On a 70 000 images dans notre table de données"
      ]
    },
    {
      "cell_type": "markdown",
      "metadata": {
        "id": "-dgELEiV-XM3"
      },
      "source": [
        "Nous allons représenter certaines de ces images"
      ]
    },
    {
      "cell_type": "code",
      "execution_count": 44,
      "metadata": {
        "id": "hRt6n6Pg8giL"
      },
      "outputs": [],
      "source": [
        "import matplotlib.pyplot as plt\n",
        "\n",
        "def plot_digits(image_data, num_rows=1, num_cols=5):\n",
        "    fig, axes = plt.subplots(num_rows, num_cols, figsize=(num_cols, num_rows))\n",
        "    for i, ax in enumerate(axes.flat):\n",
        "        ax.imshow(image_data[i].reshape(28, 28), cmap=\"binary\")\n",
        "        ax.axis(\"off\")\n",
        "    plt.tight_layout()\n",
        "    plt.show()"
      ]
    },
    {
      "cell_type": "code",
      "execution_count": 45,
      "metadata": {
        "colab": {
          "base_uri": "https://localhost:8080/",
          "height": 106
        },
        "id": "xvN1PCzr87ws",
        "outputId": "66839840-1d0e-461a-82b6-f0c6beeaea17"
      },
      "outputs": [
        {
          "output_type": "display_data",
          "data": {
            "text/plain": [
              "<Figure size 500x100 with 5 Axes>"
            ],
            "image/png": "[encoded data removed]"
          },
          "metadata": {}
        }
      ],
      "source": [
        "plot_digits(X[:5])"
      ]
    },
    {
      "cell_type": "code",
      "execution_count": 46,
      "metadata": {
        "colab": {
          "base_uri": "https://localhost:8080/"
        },
        "id": "B90GIXfd9L53",
        "outputId": "e3f21730-683f-4ac1-efc8-163c7fb224cd"
      },
      "outputs": [
        {
          "output_type": "stream",
          "name": "stdout",
          "text": [
            "5\n",
            "0\n",
            "4\n",
            "1\n",
            "9\n"
          ]
        }
      ],
      "source": [
        "digit=X[0]\n",
        "for i in range(5):\n",
        "  print(y[i])"
      ]
    },
    {
      "cell_type": "markdown",
      "metadata": {
        "id": "DsJmqCDE-OaJ"
      },
      "source": [
        "Les valeurs sont bien celles des images ci-dessus"
      ]
    },
    {
      "cell_type": "markdown",
      "metadata": {
        "id": "i433s4ZW-vdG"
      },
      "source": [
        "# **Data Split**"
      ]
    },
    {
      "cell_type": "code",
      "execution_count": 47,
      "metadata": {
        "id": "n_uYDmLE9Pgn"
      },
      "outputs": [],
      "source": [
        "X_train, X_test, y_train, y_test = X[:60000], X[60000:], y[:60000], y[60000]"
      ]
    },
    {
      "cell_type": "markdown",
      "metadata": {
        "id": "8bQZF9nQ_nzi"
      },
      "source": [
        "# **Binary classifier training**"
      ]
    },
    {
      "cell_type": "markdown",
      "metadata": {
        "id": "lJQL42hpAA8Q"
      },
      "source": [
        "On simplifie le problème dans un premier temps et on se contente de reconnaitre les '5'"
      ]
    },
    {
      "cell_type": "code",
      "execution_count": 48,
      "metadata": {
        "id": "oItJYJ73_nIY"
      },
      "outputs": [],
      "source": [
        "y_train_5 = (y_train == '5')\n",
        "y_test_5 = (y_test == '5')"
      ]
    },
    {
      "cell_type": "code",
      "execution_count": 49,
      "metadata": {
        "colab": {
          "base_uri": "https://localhost:8080/",
          "height": 75
        },
        "id": "jrywd-TaANrc",
        "outputId": "e4cfd35d-f0d5-4712-d485-2dee15b7eac1"
      },
      "outputs": [
        {
          "output_type": "execute_result",
          "data": {
            "text/plain": [
              "SGDClassifier(random_state=42)"
            ],
            "text/html": [
              "<style>#sk-container-id-2 {color: black;background-color: white;}#sk-container-id-2 pre{padding: 0;}#sk-container-id-2 div.sk-toggleable {background-color: white;}#sk-container-id-2 label.sk-toggleable__label {cursor: pointer;display: block;width: 100%;margin-bottom: 0;padding: 0.3em;box-sizing: border-box;text-align: center;}#sk-container-id-2 label.sk-toggleable__label-arrow:before {content: \"▸\";float: left;margin-right: 0.25em;color: #696969;}#sk-container-id-2 label.sk-toggleable__label-arrow:hover:before {color: black;}#sk-container-id-2 div.sk-estimator:hover label.sk-toggleable__label-arrow:before {color: black;}#sk-container-id-2 div.sk-toggleable__content {max-height: 0;max-width: 0;overflow: hidden;text-align: left;background-color: #f0f8ff;}#sk-container-id-2 div.sk-toggleable__content pre {margin: 0.2em;color: black;border-radius: 0.25em;background-color: #f0f8ff;}#sk-container-id-2 input.sk-toggleable__control:checked~div.sk-toggleable__content {max-height: 200px;max-width: 100%;overflow: auto;}#sk-container-id-2 input.sk-toggleable__control:checked~label.sk-toggleable__label-arrow:before {content: \"▾\";}#sk-container-id-2 div.sk-estimator input.sk-toggleable__control:checked~label.sk-toggleable__label {background-color: #d4ebff;}#sk-container-id-2 div.sk-label input.sk-toggleable__control:checked~label.sk-toggleable__label {background-color: #d4ebff;}#sk-container-id-2 input.sk-hidden--visually {border: 0;clip: rect(1px 1px 1px 1px);clip: rect(1px, 1px, 1px, 1px);height: 1px;margin: -1px;overflow: hidden;padding: 0;position: absolute;width: 1px;}#sk-container-id-2 div.sk-estimator {font-family: monospace;background-color: #f0f8ff;border: 1px dotted black;border-radius: 0.25em;box-sizing: border-box;margin-bottom: 0.5em;}#sk-container-id-2 div.sk-estimator:hover {background-color: #d4ebff;}#sk-container-id-2 div.sk-parallel-item::after {content: \"\";width: 100%;border-bottom: 1px solid gray;flex-grow: 1;}#sk-container-id-2 div.sk-label:hover label.sk-toggleable__label {background-color: #d4ebff;}#sk-container-id-2 div.sk-serial::before {content: \"\";position: absolute;border-left: 1px solid gray;box-sizing: border-box;top: 0;bottom: 0;left: 50%;z-index: 0;}#sk-container-id-2 div.sk-serial {display: flex;flex-direction: column;align-items: center;background-color: white;padding-right: 0.2em;padding-left: 0.2em;position: relative;}#sk-container-id-2 div.sk-item {position: relative;z-index: 1;}#sk-container-id-2 div.sk-parallel {display: flex;align-items: stretch;justify-content: center;background-color: white;position: relative;}#sk-container-id-2 div.sk-item::before, #sk-container-id-2 div.sk-parallel-item::before {content: \"\";position: absolute;border-left: 1px solid gray;box-sizing: border-box;top: 0;bottom: 0;left: 50%;z-index: -1;}#sk-container-id-2 div.sk-parallel-item {display: flex;flex-direction: column;z-index: 1;position: relative;background-color: white;}#sk-container-id-2 div.sk-parallel-item:first-child::after {align-self: flex-end;width: 50%;}#sk-container-id-2 div.sk-parallel-item:last-child::after {align-self: flex-start;width: 50%;}#sk-container-id-2 div.sk-parallel-item:only-child::after {width: 0;}#sk-container-id-2 div.sk-dashed-wrapped {border: 1px dashed gray;margin: 0 0.4em 0.5em 0.4em;box-sizing: border-box;padding-bottom: 0.4em;background-color: white;}#sk-container-id-2 div.sk-label label {font-family: monospace;font-weight: bold;display: inline-block;line-height: 1.2em;}#sk-container-id-2 div.sk-label-container {text-align: center;}#sk-container-id-2 div.sk-container {/* jupyter's `normalize.less` sets `[hidden] { display: none; }` but bootstrap.min.css set `[hidden] { display: none !important; }` so we also need the `!important` here to be able to override the default hidden behavior on the sphinx rendered scikit-learn.org. See: https://github.com/scikit-learn/scikit-learn/issues/21755 */display: inline-block !important;position: relative;}#sk-container-id-2 div.sk-text-repr-fallback {display: none;}</style><div id=\"sk-container-id-2\" class=\"sk-top-container\"><div class=\"sk-text-repr-fallback\"><pre>SGDClassifier(random_state=42)</pre><b>In a Jupyter environment, please rerun this cell to show the HTML representation or trust the notebook. <br />On GitHub, the HTML representation is unable to render, please try loading this page with nbviewer.org.</b></div><div class=\"sk-container\" hidden><div class=\"sk-item\"><div class=\"sk-estimator sk-toggleable\"><input class=\"sk-toggleable__control sk-hidden--visually\" id=\"sk-estimator-id-2\" type=\"checkbox\" checked><label for=\"sk-estimator-id-2\" class=\"sk-toggleable__label sk-toggleable__label-arrow\">SGDClassifier</label><div class=\"sk-toggleable__content\"><pre>SGDClassifier(random_state=42)</pre></div></div></div></div></div>"
            ]
          },
          "metadata": {},
          "execution_count": 49
        }
      ],
      "source": [
        "from sklearn.linear_model import SGDClassifier\n",
        "binary_classifier = SGDClassifier(random_state=42)\n",
        "binary_classifier.fit(X_train, y_train_5)"
      ]
    },
    {
      "cell_type": "markdown",
      "metadata": {
        "id": "QOpzGTQQAscF"
      },
      "source": [
        "on le test sur X[0] car on sait que c'est un 5"
      ]
    },
    {
      "cell_type": "code",
      "execution_count": 50,
      "metadata": {
        "colab": {
          "base_uri": "https://localhost:8080/"
        },
        "id": "PN0_umbxAwcW",
        "outputId": "12ff6446-8d19-41dc-aaa6-5fa82d038f90"
      },
      "outputs": [
        {
          "output_type": "execute_result",
          "data": {
            "text/plain": [
              "array([ True])"
            ]
          },
          "metadata": {},
          "execution_count": 50
        }
      ],
      "source": [
        "binary_classifier.predict([digit])"
      ]
    },
    {
      "cell_type": "markdown",
      "metadata": {
        "id": "GnurdWh1BmnF"
      },
      "source": [
        "Il detecte en effet que c'est un 5"
      ]
    },
    {
      "cell_type": "markdown",
      "metadata": {
        "id": "GgJLXlLt-ZHu"
      },
      "source": [
        "# **Test de performance**"
      ]
    },
    {
      "cell_type": "code",
      "execution_count": 51,
      "metadata": {
        "colab": {
          "base_uri": "https://localhost:8080/"
        },
        "id": "NFctv638-Q8V",
        "outputId": "2d99f390-1710-44a7-e11c-65313a1a8356"
      },
      "outputs": [
        {
          "output_type": "execute_result",
          "data": {
            "text/plain": [
              "array([0.95035, 0.96035, 0.9604 ])"
            ]
          },
          "metadata": {},
          "execution_count": 51
        }
      ],
      "source": [
        "from sklearn.model_selection import cross_val_score\n",
        "\n",
        "cross_val_score(binary_classifier,  X_train, y_train_5, cv=3, scoring=\"accuracy\")"
      ]
    },
    {
      "cell_type": "markdown",
      "metadata": {
        "id": "2vZvBRvX_tDA"
      },
      "source": [
        "Le résultat ici est à nuancé, en effet le score affiche 95% de précision mais en réalité il y a peu de 5 donc lorsque le model ne reconnait pas un 5 il a 90% de chance d'avoir juste. (voir si dessous un le score d'un modèle qui renvooit faux à chaque fois)"
      ]
    },
    {
      "cell_type": "code",
      "execution_count": 52,
      "metadata": {
        "colab": {
          "base_uri": "https://localhost:8080/"
        },
        "id": "WoFzWMaqAUvd",
        "outputId": "c1183eeb-6831-4959-8a9d-fba4a0c002cc"
      },
      "outputs": [
        {
          "output_type": "execute_result",
          "data": {
            "text/plain": [
              "array([0.90965, 0.90965, 0.90965])"
            ]
          },
          "metadata": {},
          "execution_count": 52
        }
      ],
      "source": [
        "from sklearn.dummy  import DummyClassifier\n",
        "\n",
        "dummy_clf = DummyClassifier()\n",
        "dummy_clf.fit(X_train, y_train_5)\n",
        "\n",
        "cross_val_score(dummy_clf, X_train, y_train_5, cv=3, scoring=\"accuracy\")"
      ]
    },
    {
      "cell_type": "markdown",
      "metadata": {
        "id": "TfoFu13-b2KI"
      },
      "source": [
        "Traçons d'abord la matrice de confusion : (5 , non 5)"
      ]
    },
    {
      "cell_type": "code",
      "execution_count": 53,
      "metadata": {
        "colab": {
          "base_uri": "https://localhost:8080/"
        },
        "id": "zybhP__Zb7Hw",
        "outputId": "4d2f5833-0674-4ed7-cb01-ba389539f3f1"
      },
      "outputs": [
        {
          "output_type": "execute_result",
          "data": {
            "text/plain": [
              "array([[53892,   687],\n",
              "       [ 1891,  3530]])"
            ]
          },
          "metadata": {},
          "execution_count": 53
        }
      ],
      "source": [
        "from sklearn.model_selection import cross_val_predict\n",
        "from sklearn.metrics import confusion_matrix\n",
        "\n",
        "y_train_prediction = cross_val_predict(binary_classifier, X_train, y_train_5, cv=3)\n",
        "cm = confusion_matrix(y_train_5, y_train_prediction)\n",
        "cm"
      ]
    },
    {
      "cell_type": "markdown",
      "metadata": {
        "id": "MavlVu6XdpQl"
      },
      "source": [
        "on peut lire la matrice de la façon suivante : 53 892 non 5 on été bien classés et 687 on été considérés comme des 5. En revanche 1891 5 on été considéré comme non 5"
      ]
    },
    {
      "cell_type": "markdown",
      "metadata": {
        "id": "ymoCvjlId7Yz"
      },
      "source": [
        "# **Définition de la précision**"
      ]
    },
    {
      "cell_type": "markdown",
      "metadata": {
        "id": "8dm8dNYDeBZL"
      },
      "source": [
        "précision = True positive /(True positive + False Positive)"
      ]
    },
    {
      "cell_type": "markdown",
      "metadata": {
        "id": "JJY-gooCeXPE"
      },
      "source": [
        "rappel = True positive /(True Positive + False Ngative)"
      ]
    },
    {
      "cell_type": "code",
      "execution_count": 54,
      "metadata": {
        "colab": {
          "base_uri": "https://localhost:8080/"
        },
        "id": "EqxFlNdWeN4z",
        "outputId": "21128712-279d-4a26-8dbd-0616f5f00b86"
      },
      "outputs": [
        {
          "output_type": "execute_result",
          "data": {
            "text/plain": [
              "0.8370879772350012"
            ]
          },
          "metadata": {},
          "execution_count": 54
        }
      ],
      "source": [
        "from sklearn.metrics import precision_score, recall_score\n",
        "precision_score(y_train_5, y_train_prediction)"
      ]
    },
    {
      "cell_type": "markdown",
      "metadata": {
        "id": "TE7RUi-Ye5rW"
      },
      "source": [
        "lorsque le modèle affirme reconnaitre un 5, il y a 83,7% de chance d'avoir juste"
      ]
    },
    {
      "cell_type": "code",
      "execution_count": 55,
      "metadata": {
        "colab": {
          "base_uri": "https://localhost:8080/"
        },
        "id": "fqg982A0ev2K",
        "outputId": "db593ee9-b794-47ad-e2ad-0668ef10208b"
      },
      "outputs": [
        {
          "output_type": "execute_result",
          "data": {
            "text/plain": [
              "0.6511713705958311"
            ]
          },
          "metadata": {},
          "execution_count": 55
        }
      ],
      "source": [
        "recall_score(y_train_5, y_train_prediction)"
      ]
    },
    {
      "cell_type": "markdown",
      "metadata": {
        "id": "3tJram1tfDf3"
      },
      "source": [
        "Le modèle détecte que 65.1% des 5"
      ]
    },
    {
      "cell_type": "markdown",
      "metadata": {
        "id": "LjYMsSBifUTa"
      },
      "source": [
        "On peut aussi définir le score F1 qui est la moyenne harmonique de la précision et du rappel"
      ]
    },
    {
      "cell_type": "markdown",
      "metadata": {
        "id": "NmPKEaMSfZde"
      },
      "source": [
        "F1 = 2/(1/rappel + 1/precision)"
      ]
    },
    {
      "cell_type": "code",
      "execution_count": 56,
      "metadata": {
        "colab": {
          "base_uri": "https://localhost:8080/"
        },
        "id": "9ZNiS0m3fON7",
        "outputId": "7c7d49ba-86d6-48f2-ba18-95bb16c35f74"
      },
      "outputs": [
        {
          "output_type": "execute_result",
          "data": {
            "text/plain": [
              "0.7325171197343846"
            ]
          },
          "metadata": {},
          "execution_count": 56
        }
      ],
      "source": [
        "from sklearn.metrics import f1_score\n",
        "\n",
        "f1_score(y_train_5,y_train_prediction)"
      ]
    },
    {
      "cell_type": "markdown",
      "metadata": {
        "id": "nrxWuNNMf2kb"
      },
      "source": [
        "Le score f1 favorise les classifieur ayant une précision et un rappel proche\n"
      ]
    },
    {
      "cell_type": "markdown",
      "metadata": {
        "id": "A5uK8gbvofB4"
      },
      "source": [
        "or parfois on préfére de pas sélectionner des élements valables pour limiter le risque et donc avoir une précision plus important -> faible rappel et haute précision"
      ]
    },
    {
      "cell_type": "markdown",
      "metadata": {
        "id": "XtfSj9wmpCE0"
      },
      "source": [
        "On peut aussi préférer un rappel plus haut et une précision plus faible en fonction des cas"
      ]
    },
    {
      "cell_type": "code",
      "execution_count": 57,
      "metadata": {
        "id": "qBNlxHD9pTgJ"
      },
      "outputs": [],
      "source": [
        "y_scores = cross_val_predict(binary_classifier, X_train, y_train_5, cv=3, method=\"decision_function\")"
      ]
    },
    {
      "cell_type": "code",
      "execution_count": 58,
      "metadata": {
        "id": "1qje3Mb5rXqA"
      },
      "outputs": [],
      "source": [
        "from sklearn.metrics import precision_recall_curve\n",
        "\n",
        "precisions, recalls, threshold = precision_recall_curve(y_train_5, y_scores)"
      ]
    },
    {
      "cell_type": "markdown",
      "metadata": {
        "id": "nipArRgbsm2s"
      },
      "source": [
        "on trace maintenant les courbes de précision et rappel en fonction du seuil"
      ]
    },
    {
      "cell_type": "code",
      "source": [
        "import numpy as np\n",
        "plt.figure(figsize=(10, 6))\n",
        "plt.grid(True)\n",
        "\n",
        "plt.plot(threshold, precisions[:-1], \"b--\", label=\"Précision\", linewidth=2)\n",
        "plt.plot(threshold, recalls[:-1], \"g-\", label=\"Rappel\", linewidth=2)\n",
        "plt.axvline(x=3000, color='r', linestyle='--', linewidth=2)\n",
        "\n",
        "\n",
        "plt.xlabel('Threshold')\n",
        "plt.ylabel('Score')\n",
        "plt.title('Précision et Rappel en fonction du seuil')\n",
        "\n",
        "plt.xlim(-50000, 40000)\n",
        "plt.legend()\n",
        "\n",
        "plt.show()"
      ],
      "metadata": {
        "colab": {
          "base_uri": "https://localhost:8080/",
          "height": 565
        },
        "id": "zpicBsX6yYn6",
        "outputId": "6ca21898-e532-4edf-baa9-90add710fcd8"
      },
      "execution_count": 59,
      "outputs": [
        {
          "output_type": "display_data",
          "data": {
            "text/plain": [
              "<Figure size 1000x600 with 1 Axes>"
            ],
            "image/png": "[encoded data removed]"
          },
          "metadata": {}
        }
      ]
    },
    {
      "cell_type": "code",
      "source": [
        "plt.plot(precisions, recalls, linewidth=2, label=\"Courbe precision/rappel\")\n",
        "plt.legend()\n",
        "plt.show()"
      ],
      "metadata": {
        "colab": {
          "base_uri": "https://localhost:8080/",
          "height": 430
        },
        "id": "fkPuIYe_xJeo",
        "outputId": "0be12d0b-74de-4bb9-96b6-befa7b57ae34"
      },
      "execution_count": 60,
      "outputs": [
        {
          "output_type": "display_data",
          "data": {
            "text/plain": [
              "<Figure size 640x480 with 1 Axes>"
            ],
            "image/png": "[encoded data removed]"
          },
          "metadata": {}
        }
      ]
    },
    {
      "cell_type": "markdown",
      "source": [
        "On fixe notre précision cible : 95%\n",
        "selon le graphe ci-dessus correspond à environ 20% de rappel"
      ],
      "metadata": {
        "id": "mNUMdciBlIAS"
      }
    },
    {
      "cell_type": "markdown",
      "source": [
        "recherche du seuil correspondant"
      ],
      "metadata": {
        "id": "wRcGd-r0meQ7"
      }
    },
    {
      "cell_type": "code",
      "source": [
        "idx_for_95_precision = (precisions>0.95).argmax()\n",
        "threshold_for_95_precision = threshold[idx_for_95_precision]\n",
        "threshold_for_95_precision"
      ],
      "metadata": {
        "colab": {
          "base_uri": "https://localhost:8080/"
        },
        "id": "sD6g39vck74_",
        "outputId": "44ad1b55-db71-403d-a9d9-9d54605269e7"
      },
      "execution_count": 61,
      "outputs": [
        {
          "output_type": "execute_result",
          "data": {
            "text/plain": [
              "10480.508645329961"
            ]
          },
          "metadata": {},
          "execution_count": 61
        }
      ]
    },
    {
      "cell_type": "code",
      "source": [
        "y_train_pred_95 = (y_scores >= threshold_for_95_precision )"
      ],
      "metadata": {
        "id": "wmq_JxuGminf"
      },
      "execution_count": 62,
      "outputs": []
    },
    {
      "cell_type": "code",
      "source": [
        "precision_score(y_train_5, y_train_pred_95)"
      ],
      "metadata": {
        "colab": {
          "base_uri": "https://localhost:8080/"
        },
        "id": "aRlfxM8_mt_2",
        "outputId": "7a6e7232-e5d7-42ec-d3fd-ed4183958122"
      },
      "execution_count": 63,
      "outputs": [
        {
          "output_type": "execute_result",
          "data": {
            "text/plain": [
              "0.9503367003367004"
            ]
          },
          "metadata": {},
          "execution_count": 63
        }
      ]
    },
    {
      "cell_type": "markdown",
      "source": [
        "On a bien une précision de 95%"
      ],
      "metadata": {
        "id": "uxLWLVq3m1Da"
      }
    },
    {
      "cell_type": "code",
      "source": [
        " recall_at_95_precision = recall_score(y_train_5, y_train_pred_95)\n",
        " recall_at_95_precision"
      ],
      "metadata": {
        "colab": {
          "base_uri": "https://localhost:8080/"
        },
        "id": "skh7n7MYm0Tu",
        "outputId": "16e6b382-da19-4d3a-8647-b8d9c286b313"
      },
      "execution_count": 64,
      "outputs": [
        {
          "output_type": "execute_result",
          "data": {
            "text/plain": [
              "0.20826415790444566"
            ]
          },
          "metadata": {},
          "execution_count": 64
        }
      ]
    },
    {
      "cell_type": "markdown",
      "source": [
        "\n",
        "le recall correspondant est donc de 21%\n",
        "\n"
      ],
      "metadata": {
        "id": "jlKPO9QumW-B"
      }
    },
    {
      "cell_type": "markdown",
      "source": [
        "**Courbe ROC**"
      ],
      "metadata": {
        "id": "OWOA3Td-ndSh"
      }
    },
    {
      "cell_type": "markdown",
      "source": [
        "C'est une coubre représentant en en x le taux de faux positifs et en y le taux de vrais positifs"
      ],
      "metadata": {
        "id": "3mdcsB61oYRr"
      }
    },
    {
      "cell_type": "code",
      "source": [
        "from sklearn.metrics import roc_curve\n",
        "\n",
        "fpr, tpr, thresholds= roc_curve(y_train_5, y_scores)"
      ],
      "metadata": {
        "id": "nJnNpkwtoUxp"
      },
      "execution_count": 66,
      "outputs": []
    },
    {
      "cell_type": "code",
      "source": [
        "idx_for_95_precision = (thresholds <= threshold_for_95_precision).argmax()\n",
        "tpr_95, fpr_95 = tpr[idx_for_95_precision], fpr[idx_for_95_precision]\n",
        "\n",
        "\n",
        "plt.figure(figsize=(10, 6))\n",
        "plt.grid(True)\n",
        "plt.plot(fpr, tpr, linewidth=2, label =\"Courbe ROC\")\n",
        "plt.plot([0,1],[0,1],\"k\", label=\"Courbe ROC du classificateur aléatoire\")\n",
        "plt.plot([fpr_95],[tpr_95],\"ko\", label=\"Seuil pour précisions 95%\", color=\"red\")\n",
        "plt.legend()\n",
        "plt.show()"
      ],
      "metadata": {
        "colab": {
          "base_uri": "https://localhost:8080/",
          "height": 557
        },
        "id": "A3fgznfingSn",
        "outputId": "7878d297-a1b9-4048-b6cb-833508a081e7"
      },
      "execution_count": 73,
      "outputs": [
        {
          "output_type": "stream",
          "name": "stderr",
          "text": [
            "<ipython-input-73-ef21c175cd36>:9: UserWarning: color is redundantly defined by the 'color' keyword argument and the fmt string \"ko\" (-> color='k'). The keyword argument will take precedence.\n",
            "  plt.plot([fpr_95],[tpr_95],\"ko\", label=\"Seuil pour précisions 95%\", color=\"red\")\n"
          ]
        },
        {
          "output_type": "display_data",
          "data": {
            "text/plain": [
              "<Figure size 1000x600 with 1 Axes>"
            ],
            "image/png": "[encoded data removed]"
          },
          "metadata": {}
        }
      ]
    },
    {
      "cell_type": "markdown",
      "source": [
        "Pour comparer des classificateurs entre eux on peut alors calculer l'air sous les courbes ROC, celui pour lequel la valeur est plus proche de 1  est le meilleur (on appelle cette estimateur AUC : area under the curve)"
      ],
      "metadata": {
        "id": "yoNbbFZXqMCx"
      }
    },
    {
      "cell_type": "code",
      "source": [
        "from sklearn.metrics import roc_auc_score\n",
        "\n",
        "roc_auc_score(y_train_5, y_scores)"
      ],
      "metadata": {
        "colab": {
          "base_uri": "https://localhost:8080/"
        },
        "id": "cwO5PKWtqXCc",
        "outputId": "818362a7-62e8-4e17-a3d3-51b8bf98a22c"
      },
      "execution_count": 74,
      "outputs": [
        {
          "output_type": "execute_result",
          "data": {
            "text/plain": [
              "0.9604938554008616"
            ]
          },
          "metadata": {},
          "execution_count": 74
        }
      ]
    },
    {
      "cell_type": "markdown",
      "source": [
        "**Nouveau classificateur à tester RandomForest**"
      ],
      "metadata": {
        "id": "E1An8H51q0P9"
      }
    },
    {
      "cell_type": "code",
      "source": [
        "from sklearn.ensemble import RandomForestClassifier\n",
        "forest_clf = RandomForestClassifier(random_state=42)"
      ],
      "metadata": {
        "id": "-HHRCtsUqwEa"
      },
      "execution_count": 75,
      "outputs": []
    },
    {
      "cell_type": "code",
      "source": [
        "y_probas_forest = cross_val_predict(forest_clf, X_train, y_train_5, cv=3,\n",
        "                                    method=\"predict_proba\")"
      ],
      "metadata": {
        "id": "8vPzYapqrFV-"
      },
      "execution_count": 77,
      "outputs": []
    },
    {
      "cell_type": "code",
      "source": [
        "y_probas_forest[:2]"
      ],
      "metadata": {
        "colab": {
          "base_uri": "https://localhost:8080/"
        },
        "id": "jlzswdt3rTXo",
        "outputId": "a51d1561-88dd-4398-e513-ba077560c094"
      },
      "execution_count": 78,
      "outputs": [
        {
          "output_type": "execute_result",
          "data": {
            "text/plain": [
              "array([[0.11, 0.89],\n",
              "       [0.99, 0.01]])"
            ]
          },
          "metadata": {},
          "execution_count": 78
        }
      ]
    },
    {
      "cell_type": "markdown",
      "source": [
        "cela signifie que la premiere image a 89% de chance d'être un 5 et 11% de ne pas l'être, de même la seconde a 99% de chance de ne pas l'être"
      ],
      "metadata": {
        "id": "TGCTT4ndr3kK"
      }
    },
    {
      "cell_type": "markdown",
      "source": [
        "On va donc pouvoir tracer la courbe de precision/recall"
      ],
      "metadata": {
        "id": "-2KQ7nafsJFg"
      }
    },
    {
      "cell_type": "code",
      "source": [
        "y_scores_forest = y_probas_forest[:,1]\n",
        "precisions_forest, recall_forest, threshold_forest = precision_recall_curve(y_train_5,y_scores_forest)"
      ],
      "metadata": {
        "id": "Zk8UlhR3sMKi"
      },
      "execution_count": 79,
      "outputs": []
    },
    {
      "cell_type": "code",
      "source": [
        "plt.figure(figsize=(10, 6))\n",
        "plt.grid(True)\n",
        "plt.plot(recall_forest, precisions_forest, \"b-\",linewidth=2, label =\"Forêt aléatoire\")\n",
        "plt.plot(recalls, precisions,\"--\",linewidth=2, label=\"Descnete de gradient stochastique\", color=\"black\")\n",
        "plt.xlabel=\"Rappel\"\n",
        "plt.ylabel=\"Précision\"\n",
        "plt.legend()\n",
        "plt.show()"
      ],
      "metadata": {
        "colab": {
          "base_uri": "https://localhost:8080/",
          "height": 522
        },
        "id": "skyKlbScse-h",
        "outputId": "d0aec166-3115-4e8b-c16c-da3b8a38d81c"
      },
      "execution_count": 84,
      "outputs": [
        {
          "output_type": "display_data",
          "data": {
            "text/plain": [
              "<Figure size 1000x600 with 1 Axes>"
            ],
            "image/png": "[encoded data removed]"
          },
          "metadata": {}
        }
      ]
    },
    {
      "cell_type": "markdown",
      "source": [
        "vérifions le f1 score et le AUC"
      ],
      "metadata": {
        "id": "zSMyQIHAthOg"
      }
    },
    {
      "cell_type": "code",
      "source": [
        "y_pred_forest= y_probas_forest[:,1]>=0.5\n",
        "f1_score(y_train_5, y_pred_forest)"
      ],
      "metadata": {
        "colab": {
          "base_uri": "https://localhost:8080/"
        },
        "id": "pQ40aCgGtjfv",
        "outputId": "a0077703-922e-457f-ba08-fa01a8222b90"
      },
      "execution_count": 86,
      "outputs": [
        {
          "output_type": "execute_result",
          "data": {
            "text/plain": [
              "0.9274509803921569"
            ]
          },
          "metadata": {},
          "execution_count": 86
        }
      ]
    },
    {
      "cell_type": "code",
      "source": [
        "roc_auc_score(y_train_5, y_scores_forest)"
      ],
      "metadata": {
        "colab": {
          "base_uri": "https://localhost:8080/"
        },
        "id": "T-hiFc1TtuL1",
        "outputId": "be69fc36-1d54-4520-fde1-1704298ad873"
      },
      "execution_count": 87,
      "outputs": [
        {
          "output_type": "execute_result",
          "data": {
            "text/plain": [
              "0.9983436731328145"
            ]
          },
          "metadata": {},
          "execution_count": 87
        }
      ]
    },
    {
      "cell_type": "markdown",
      "source": [
        "precisions :"
      ],
      "metadata": {
        "id": "1IVfa0Lat_Y1"
      }
    },
    {
      "cell_type": "code",
      "source": [
        "precision_score(y_train_5, y_pred_forest)"
      ],
      "metadata": {
        "colab": {
          "base_uri": "https://localhost:8080/"
        },
        "id": "ilrjfULNuAxQ",
        "outputId": "5b42ecc6-f92d-4be1-f5c5-193dae619d26"
      },
      "execution_count": 88,
      "outputs": [
        {
          "output_type": "execute_result",
          "data": {
            "text/plain": [
              "0.9897468089558485"
            ]
          },
          "metadata": {},
          "execution_count": 88
        }
      ]
    },
    {
      "cell_type": "markdown",
      "source": [
        "rappel :"
      ],
      "metadata": {
        "id": "ipwD67MouEK3"
      }
    },
    {
      "cell_type": "code",
      "source": [
        "recall_score(y_train_5, y_pred_forest)"
      ],
      "metadata": {
        "colab": {
          "base_uri": "https://localhost:8080/"
        },
        "id": "sjaFP8ciuHtN",
        "outputId": "e5742c2d-c305-44a7-a87d-50427977ace8"
      },
      "execution_count": 89,
      "outputs": [
        {
          "output_type": "execute_result",
          "data": {
            "text/plain": [
              "0.8725327430363402"
            ]
          },
          "metadata": {},
          "execution_count": 89
        }
      ]
    },
    {
      "cell_type": "markdown",
      "source": [
        "Le classificateur Random forest est plus efficace que le classificateur vu précedement"
      ],
      "metadata": {
        "id": "VXKKgraluKuO"
      }
    },
    {
      "cell_type": "markdown",
      "source": [
        "# **classificateur multi-classes**"
      ],
      "metadata": {
        "id": "4nOZlFsinSVS"
      }
    },
    {
      "cell_type": "markdown",
      "source": [
        "Nous effectuerons l'entrainement du modèle sur les 3000 premières valeurs pour limiter la durée d'éxecution"
      ],
      "metadata": {
        "id": "TRHarr1-uynm"
      }
    },
    {
      "cell_type": "code",
      "source": [
        "from sklearn.svm import SVC\n",
        "svm_clf = SVC(random_state=42)\n",
        "svm_clf.fit(X_train[:3000], y_train[:3000])"
      ],
      "metadata": {
        "colab": {
          "base_uri": "https://localhost:8080/",
          "height": 75
        },
        "id": "8dQyDc3xuRlz",
        "outputId": "53fec38a-b83d-4a03-d15f-97212915ee43"
      },
      "execution_count": 92,
      "outputs": [
        {
          "output_type": "execute_result",
          "data": {
            "text/plain": [
              "SVC(random_state=42)"
            ],
            "text/html": [
              "<style>#sk-container-id-4 {color: black;background-color: white;}#sk-container-id-4 pre{padding: 0;}#sk-container-id-4 div.sk-toggleable {background-color: white;}#sk-container-id-4 label.sk-toggleable__label {cursor: pointer;display: block;width: 100%;margin-bottom: 0;padding: 0.3em;box-sizing: border-box;text-align: center;}#sk-container-id-4 label.sk-toggleable__label-arrow:before {content: \"▸\";float: left;margin-right: 0.25em;color: #696969;}#sk-container-id-4 label.sk-toggleable__label-arrow:hover:before {color: black;}#sk-container-id-4 div.sk-estimator:hover label.sk-toggleable__label-arrow:before {color: black;}#sk-container-id-4 div.sk-toggleable__content {max-height: 0;max-width: 0;overflow: hidden;text-align: left;background-color: #f0f8ff;}#sk-container-id-4 div.sk-toggleable__content pre {margin: 0.2em;color: black;border-radius: 0.25em;background-color: #f0f8ff;}#sk-container-id-4 input.sk-toggleable__control:checked~div.sk-toggleable__content {max-height: 200px;max-width: 100%;overflow: auto;}#sk-container-id-4 input.sk-toggleable__control:checked~label.sk-toggleable__label-arrow:before {content: \"▾\";}#sk-container-id-4 div.sk-estimator input.sk-toggleable__control:checked~label.sk-toggleable__label {background-color: #d4ebff;}#sk-container-id-4 div.sk-label input.sk-toggleable__control:checked~label.sk-toggleable__label {background-color: #d4ebff;}#sk-container-id-4 input.sk-hidden--visually {border: 0;clip: rect(1px 1px 1px 1px);clip: rect(1px, 1px, 1px, 1px);height: 1px;margin: -1px;overflow: hidden;padding: 0;position: absolute;width: 1px;}#sk-container-id-4 div.sk-estimator {font-family: monospace;background-color: #f0f8ff;border: 1px dotted black;border-radius: 0.25em;box-sizing: border-box;margin-bottom: 0.5em;}#sk-container-id-4 div.sk-estimator:hover {background-color: #d4ebff;}#sk-container-id-4 div.sk-parallel-item::after {content: \"\";width: 100%;border-bottom: 1px solid gray;flex-grow: 1;}#sk-container-id-4 div.sk-label:hover label.sk-toggleable__label {background-color: #d4ebff;}#sk-container-id-4 div.sk-serial::before {content: \"\";position: absolute;border-left: 1px solid gray;box-sizing: border-box;top: 0;bottom: 0;left: 50%;z-index: 0;}#sk-container-id-4 div.sk-serial {display: flex;flex-direction: column;align-items: center;background-color: white;padding-right: 0.2em;padding-left: 0.2em;position: relative;}#sk-container-id-4 div.sk-item {position: relative;z-index: 1;}#sk-container-id-4 div.sk-parallel {display: flex;align-items: stretch;justify-content: center;background-color: white;position: relative;}#sk-container-id-4 div.sk-item::before, #sk-container-id-4 div.sk-parallel-item::before {content: \"\";position: absolute;border-left: 1px solid gray;box-sizing: border-box;top: 0;bottom: 0;left: 50%;z-index: -1;}#sk-container-id-4 div.sk-parallel-item {display: flex;flex-direction: column;z-index: 1;position: relative;background-color: white;}#sk-container-id-4 div.sk-parallel-item:first-child::after {align-self: flex-end;width: 50%;}#sk-container-id-4 div.sk-parallel-item:last-child::after {align-self: flex-start;width: 50%;}#sk-container-id-4 div.sk-parallel-item:only-child::after {width: 0;}#sk-container-id-4 div.sk-dashed-wrapped {border: 1px dashed gray;margin: 0 0.4em 0.5em 0.4em;box-sizing: border-box;padding-bottom: 0.4em;background-color: white;}#sk-container-id-4 div.sk-label label {font-family: monospace;font-weight: bold;display: inline-block;line-height: 1.2em;}#sk-container-id-4 div.sk-label-container {text-align: center;}#sk-container-id-4 div.sk-container {/* jupyter's `normalize.less` sets `[hidden] { display: none; }` but bootstrap.min.css set `[hidden] { display: none !important; }` so we also need the `!important` here to be able to override the default hidden behavior on the sphinx rendered scikit-learn.org. See: https://github.com/scikit-learn/scikit-learn/issues/21755 */display: inline-block !important;position: relative;}#sk-container-id-4 div.sk-text-repr-fallback {display: none;}</style><div id=\"sk-container-id-4\" class=\"sk-top-container\"><div class=\"sk-text-repr-fallback\"><pre>SVC(random_state=42)</pre><b>In a Jupyter environment, please rerun this cell to show the HTML representation or trust the notebook. <br />On GitHub, the HTML representation is unable to render, please try loading this page with nbviewer.org.</b></div><div class=\"sk-container\" hidden><div class=\"sk-item\"><div class=\"sk-estimator sk-toggleable\"><input class=\"sk-toggleable__control sk-hidden--visually\" id=\"sk-estimator-id-4\" type=\"checkbox\" checked><label for=\"sk-estimator-id-4\" class=\"sk-toggleable__label sk-toggleable__label-arrow\">SVC</label><div class=\"sk-toggleable__content\"><pre>SVC(random_state=42)</pre></div></div></div></div></div>"
            ]
          },
          "metadata": {},
          "execution_count": 92
        }
      ]
    },
    {
      "cell_type": "code",
      "source": [
        "svm_clf.predict([X[0]])"
      ],
      "metadata": {
        "colab": {
          "base_uri": "https://localhost:8080/"
        },
        "id": "tPf8J_dLvJ6N",
        "outputId": "00614d51-d899-46b4-a56a-5d35775a4152"
      },
      "execution_count": 93,
      "outputs": [
        {
          "output_type": "execute_result",
          "data": {
            "text/plain": [
              "array(['5'], dtype=object)"
            ]
          },
          "metadata": {},
          "execution_count": 93
        }
      ]
    },
    {
      "cell_type": "markdown",
      "source": [
        "Ce classificateur fonctionne selon la strategie OvO c'est à dire qu'il est en réalité composé de 45 classificateurs binaire (une par paire de chiffres possible) (N*(N-1)/2). il sélectionne le chiffre qui a remporté le plus de duels"
      ],
      "metadata": {
        "id": "TPG-cR0cvYhG"
      }
    },
    {
      "cell_type": "markdown",
      "source": [
        "Une autre stratégie possible est celle OvR -> créer 10 détécteurs, un par chiffre comme nous l'avons fait au dessus pour 5 et voir celui qui obtient le meuilleur score pour chaque images (nous ne la verrons pas ici)"
      ],
      "metadata": {
        "id": "TOTIUKEiwAAK"
      }
    },
    {
      "cell_type": "code",
      "source": [
        "premiere_image_scores = svm_clf.decision_function([X[0]])\n",
        "premiere_image_scores.round(2)"
      ],
      "metadata": {
        "colab": {
          "base_uri": "https://localhost:8080/"
        },
        "id": "u7lzbV8Jv6GT",
        "outputId": "1c13a8de-e237-4b49-b4c0-c441e422e868"
      },
      "execution_count": 94,
      "outputs": [
        {
          "output_type": "execute_result",
          "data": {
            "text/plain": [
              "array([[ 3.77,  0.73,  6.13,  8.3 , -0.3 ,  9.3 ,  1.74,  3.79,  7.21,\n",
              "         3.82]])"
            ]
          },
          "metadata": {},
          "execution_count": 94
        }
      ]
    },
    {
      "cell_type": "markdown",
      "source": [
        "on voit bien que le score le plus élevée est en 6eme positions donc c'est le chiffre 5"
      ],
      "metadata": {
        "id": "4sjT9g9cwmod"
      }
    }
  ],
  "metadata": {
    "colab": {
      "provenance": []
    },
    "kernelspec": {
      "display_name": "Python 3",
      "name": "python3"
    },
    "language_info": {
      "name": "python"
    }
  },
  "nbformat": 4,
  "nbformat_minor": 0
}