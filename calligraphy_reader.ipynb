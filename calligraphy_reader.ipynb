{
  "cells": [
    {
      "cell_type": "markdown",
      "metadata": {
        "id": "TlrRee9f7nXU"
      },
      "source": [
        "# **Caligraphy reader model with skealrn**"
      ]
    },
    {
      "cell_type": "markdown",
      "metadata": {
        "id": "6roiWTfP7v4_"
      },
      "source": [
        "# **Data preparation**"
      ]
    },
    {
      "cell_type": "code",
      "execution_count": 58,
      "metadata": {
        "colab": {
          "base_uri": "https://localhost:8080/"
        },
        "id": "Mzhz668v7kG7",
        "outputId": "fcc24bcd-5827-4a0c-b8b8-2d27675931e3"
      },
      "outputs": [
        {
          "output_type": "stream",
          "name": "stderr",
          "text": [
            "/usr/local/lib/python3.10/dist-packages/sklearn/datasets/_openml.py:968: FutureWarning: The default value of `parser` will change from `'liac-arff'` to `'auto'` in 1.4. You can set `parser='auto'` to silence this warning. Therefore, an `ImportError` will be raised from 1.4 if the dataset is dense and pandas is not installed. Note that the pandas parser may return different data types. See the Notes Section in fetch_openml's API doc for details.\n",
            "  warn(\n"
          ]
        }
      ],
      "source": [
        "from sklearn.datasets import fetch_openml\n",
        "\n",
        "mnist = fetch_openml(\"mnist_784\", as_frame = False)"
      ]
    },
    {
      "cell_type": "code",
      "execution_count": 59,
      "metadata": {
        "colab": {
          "base_uri": "https://localhost:8080/"
        },
        "id": "FkU4sTlw8GFt",
        "outputId": "ce8d7e04-8cad-4a8e-86a7-5b27538febc4"
      },
      "outputs": [
        {
          "output_type": "execute_result",
          "data": {
            "text/plain": [
              "array([[0., 0., 0., ..., 0., 0., 0.],\n",
              "       [0., 0., 0., ..., 0., 0., 0.],\n",
              "       [0., 0., 0., ..., 0., 0., 0.],\n",
              "       ...,\n",
              "       [0., 0., 0., ..., 0., 0., 0.],\n",
              "       [0., 0., 0., ..., 0., 0., 0.],\n",
              "       [0., 0., 0., ..., 0., 0., 0.]])"
            ]
          },
          "metadata": {},
          "execution_count": 59
        }
      ],
      "source": [
        "X = mnist.data\n",
        "y = mnist.target\n",
        "X"
      ]
    },
    {
      "cell_type": "code",
      "execution_count": 60,
      "metadata": {
        "colab": {
          "base_uri": "https://localhost:8080/"
        },
        "id": "caBPPRZl8XEH",
        "outputId": "88395df3-52d8-4f6c-86cc-c2b8fe8440df"
      },
      "outputs": [
        {
          "output_type": "execute_result",
          "data": {
            "text/plain": [
              "array(['5', '0', '4', ..., '4', '5', '6'], dtype=object)"
            ]
          },
          "metadata": {},
          "execution_count": 60
        }
      ],
      "source": [
        "y"
      ]
    },
    {
      "cell_type": "code",
      "execution_count": 61,
      "metadata": {
        "colab": {
          "base_uri": "https://localhost:8080/"
        },
        "id": "pX6tyI-s8Yzs",
        "outputId": "76d46746-68c7-4930-a67f-a00e80bf8ae9"
      },
      "outputs": [
        {
          "output_type": "stream",
          "name": "stdout",
          "text": [
            "X.shape = (70000, 784)\n",
            "y.shape = (70000,)\n"
          ]
        }
      ],
      "source": [
        "print(f'X.shape = {X.shape}')\n",
        "print(f'y.shape = {y.shape}')"
      ]
    },
    {
      "cell_type": "markdown",
      "metadata": {
        "id": "jkthmA4i-TO7"
      },
      "source": [
        "On a 70 000 images dans notre table de données"
      ]
    },
    {
      "cell_type": "markdown",
      "metadata": {
        "id": "-dgELEiV-XM3"
      },
      "source": [
        "Nous allons représenter certaines de ces images"
      ]
    },
    {
      "cell_type": "code",
      "execution_count": 62,
      "metadata": {
        "id": "hRt6n6Pg8giL"
      },
      "outputs": [],
      "source": [
        "import matplotlib.pyplot as plt\n",
        "\n",
        "def plot_digits(image_data, num_rows=1, num_cols=5):\n",
        "    fig, axes = plt.subplots(num_rows, num_cols, figsize=(num_cols, num_rows))\n",
        "    for i, ax in enumerate(axes.flat):\n",
        "        ax.imshow(image_data[i].reshape(28, 28), cmap=\"binary\")\n",
        "        ax.axis(\"off\")\n",
        "    plt.tight_layout()\n",
        "    plt.show()"
      ]
    },
    {
      "cell_type": "code",
      "execution_count": 63,
      "metadata": {
        "colab": {
          "base_uri": "https://localhost:8080/",
          "height": 106
        },
        "id": "xvN1PCzr87ws",
        "outputId": "0573d55d-c697-4d52-91ac-628dd7c0f1eb"
      },
      "outputs": [
        {
          "output_type": "display_data",
          "data": {
            "text/plain": [
              "<Figure size 500x100 with 5 Axes>"
            ],
            "image/png": "[encoded data removed]"
          },
          "metadata": {}
        }
      ],
      "source": [
        "plot_digits(X[:5])"
      ]
    },
    {
      "cell_type": "code",
      "execution_count": 64,
      "metadata": {
        "colab": {
          "base_uri": "https://localhost:8080/"
        },
        "id": "B90GIXfd9L53",
        "outputId": "00f9efaf-6483-4989-e16a-8ceda436668b"
      },
      "outputs": [
        {
          "output_type": "stream",
          "name": "stdout",
          "text": [
            "5\n",
            "0\n",
            "4\n",
            "1\n",
            "9\n"
          ]
        }
      ],
      "source": [
        "digit=X[0]\n",
        "for i in range(5):\n",
        "  print(y[i])"
      ]
    },
    {
      "cell_type": "markdown",
      "metadata": {
        "id": "DsJmqCDE-OaJ"
      },
      "source": [
        "Les valeurs sont bien celles des images ci-dessus"
      ]
    },
    {
      "cell_type": "markdown",
      "metadata": {
        "id": "i433s4ZW-vdG"
      },
      "source": [
        "# **Data Split**"
      ]
    },
    {
      "cell_type": "code",
      "execution_count": 65,
      "metadata": {
        "id": "n_uYDmLE9Pgn"
      },
      "outputs": [],
      "source": [
        "X_train, X_test, y_train, y_test = X[:60000], X[60000:], y[:60000], y[60000]"
      ]
    },
    {
      "cell_type": "markdown",
      "metadata": {
        "id": "8bQZF9nQ_nzi"
      },
      "source": [
        "# **Binary classifier training**"
      ]
    },
    {
      "cell_type": "markdown",
      "metadata": {
        "id": "lJQL42hpAA8Q"
      },
      "source": [
        "On simplifie le problème dans un premier temps et on se contente de reconnaitre les '5'"
      ]
    },
    {
      "cell_type": "code",
      "execution_count": 66,
      "metadata": {
        "id": "oItJYJ73_nIY"
      },
      "outputs": [],
      "source": [
        "y_train_5 = (y_train == '5')\n",
        "y_test_5 = (y_test == '5')"
      ]
    },
    {
      "cell_type": "code",
      "execution_count": 67,
      "metadata": {
        "colab": {
          "base_uri": "https://localhost:8080/",
          "height": 75
        },
        "id": "jrywd-TaANrc",
        "outputId": "c28fd9e4-0f22-4924-9f34-f9acd63d49c2"
      },
      "outputs": [
        {
          "output_type": "execute_result",
          "data": {
            "text/plain": [
              "SGDClassifier(random_state=42)"
            ],
            "text/html": [
              "<style>#sk-container-id-3 {color: black;background-color: white;}#sk-container-id-3 pre{padding: 0;}#sk-container-id-3 div.sk-toggleable {background-color: white;}#sk-container-id-3 label.sk-toggleable__label {cursor: pointer;display: block;width: 100%;margin-bottom: 0;padding: 0.3em;box-sizing: border-box;text-align: center;}#sk-container-id-3 label.sk-toggleable__label-arrow:before {content: \"▸\";float: left;margin-right: 0.25em;color: #696969;}#sk-container-id-3 label.sk-toggleable__label-arrow:hover:before {color: black;}#sk-container-id-3 div.sk-estimator:hover label.sk-toggleable__label-arrow:before {color: black;}#sk-container-id-3 div.sk-toggleable__content {max-height: 0;max-width: 0;overflow: hidden;text-align: left;background-color: #f0f8ff;}#sk-container-id-3 div.sk-toggleable__content pre {margin: 0.2em;color: black;border-radius: 0.25em;background-color: #f0f8ff;}#sk-container-id-3 input.sk-toggleable__control:checked~div.sk-toggleable__content {max-height: 200px;max-width: 100%;overflow: auto;}#sk-container-id-3 input.sk-toggleable__control:checked~label.sk-toggleable__label-arrow:before {content: \"▾\";}#sk-container-id-3 div.sk-estimator input.sk-toggleable__control:checked~label.sk-toggleable__label {background-color: #d4ebff;}#sk-container-id-3 div.sk-label input.sk-toggleable__control:checked~label.sk-toggleable__label {background-color: #d4ebff;}#sk-container-id-3 input.sk-hidden--visually {border: 0;clip: rect(1px 1px 1px 1px);clip: rect(1px, 1px, 1px, 1px);height: 1px;margin: -1px;overflow: hidden;padding: 0;position: absolute;width: 1px;}#sk-container-id-3 div.sk-estimator {font-family: monospace;background-color: #f0f8ff;border: 1px dotted black;border-radius: 0.25em;box-sizing: border-box;margin-bottom: 0.5em;}#sk-container-id-3 div.sk-estimator:hover {background-color: #d4ebff;}#sk-container-id-3 div.sk-parallel-item::after {content: \"\";width: 100%;border-bottom: 1px solid gray;flex-grow: 1;}#sk-container-id-3 div.sk-label:hover label.sk-toggleable__label {background-color: #d4ebff;}#sk-container-id-3 div.sk-serial::before {content: \"\";position: absolute;border-left: 1px solid gray;box-sizing: border-box;top: 0;bottom: 0;left: 50%;z-index: 0;}#sk-container-id-3 div.sk-serial {display: flex;flex-direction: column;align-items: center;background-color: white;padding-right: 0.2em;padding-left: 0.2em;position: relative;}#sk-container-id-3 div.sk-item {position: relative;z-index: 1;}#sk-container-id-3 div.sk-parallel {display: flex;align-items: stretch;justify-content: center;background-color: white;position: relative;}#sk-container-id-3 div.sk-item::before, #sk-container-id-3 div.sk-parallel-item::before {content: \"\";position: absolute;border-left: 1px solid gray;box-sizing: border-box;top: 0;bottom: 0;left: 50%;z-index: -1;}#sk-container-id-3 div.sk-parallel-item {display: flex;flex-direction: column;z-index: 1;position: relative;background-color: white;}#sk-container-id-3 div.sk-parallel-item:first-child::after {align-self: flex-end;width: 50%;}#sk-container-id-3 div.sk-parallel-item:last-child::after {align-self: flex-start;width: 50%;}#sk-container-id-3 div.sk-parallel-item:only-child::after {width: 0;}#sk-container-id-3 div.sk-dashed-wrapped {border: 1px dashed gray;margin: 0 0.4em 0.5em 0.4em;box-sizing: border-box;padding-bottom: 0.4em;background-color: white;}#sk-container-id-3 div.sk-label label {font-family: monospace;font-weight: bold;display: inline-block;line-height: 1.2em;}#sk-container-id-3 div.sk-label-container {text-align: center;}#sk-container-id-3 div.sk-container {/* jupyter's `normalize.less` sets `[hidden] { display: none; }` but bootstrap.min.css set `[hidden] { display: none !important; }` so we also need the `!important` here to be able to override the default hidden behavior on the sphinx rendered scikit-learn.org. See: https://github.com/scikit-learn/scikit-learn/issues/21755 */display: inline-block !important;position: relative;}#sk-container-id-3 div.sk-text-repr-fallback {display: none;}</style><div id=\"sk-container-id-3\" class=\"sk-top-container\"><div class=\"sk-text-repr-fallback\"><pre>SGDClassifier(random_state=42)</pre><b>In a Jupyter environment, please rerun this cell to show the HTML representation or trust the notebook. <br />On GitHub, the HTML representation is unable to render, please try loading this page with nbviewer.org.</b></div><div class=\"sk-container\" hidden><div class=\"sk-item\"><div class=\"sk-estimator sk-toggleable\"><input class=\"sk-toggleable__control sk-hidden--visually\" id=\"sk-estimator-id-3\" type=\"checkbox\" checked><label for=\"sk-estimator-id-3\" class=\"sk-toggleable__label sk-toggleable__label-arrow\">SGDClassifier</label><div class=\"sk-toggleable__content\"><pre>SGDClassifier(random_state=42)</pre></div></div></div></div></div>"
            ]
          },
          "metadata": {},
          "execution_count": 67
        }
      ],
      "source": [
        "from sklearn.linear_model import SGDClassifier\n",
        "binary_classifier = SGDClassifier(random_state=42)\n",
        "binary_classifier.fit(X_train, y_train_5)"
      ]
    },
    {
      "cell_type": "markdown",
      "metadata": {
        "id": "QOpzGTQQAscF"
      },
      "source": [
        "on le test sur X[0] car on sait que c'est un 5"
      ]
    },
    {
      "cell_type": "code",
      "execution_count": 68,
      "metadata": {
        "colab": {
          "base_uri": "https://localhost:8080/"
        },
        "id": "PN0_umbxAwcW",
        "outputId": "2b8cba7f-032d-4683-99a6-f328bf48b3c0"
      },
      "outputs": [
        {
          "output_type": "execute_result",
          "data": {
            "text/plain": [
              "array([ True])"
            ]
          },
          "metadata": {},
          "execution_count": 68
        }
      ],
      "source": [
        "binary_classifier.predict([digit])"
      ]
    },
    {
      "cell_type": "markdown",
      "metadata": {
        "id": "GnurdWh1BmnF"
      },
      "source": [
        "Il detecte en effet que c'est un 5"
      ]
    },
    {
      "cell_type": "markdown",
      "metadata": {
        "id": "GgJLXlLt-ZHu"
      },
      "source": [
        "# **Test de performance**"
      ]
    },
    {
      "cell_type": "code",
      "execution_count": 69,
      "metadata": {
        "colab": {
          "base_uri": "https://localhost:8080/"
        },
        "id": "NFctv638-Q8V",
        "outputId": "490efd9c-4e78-4d0b-abf6-ca4e8fcdba3b"
      },
      "outputs": [
        {
          "output_type": "execute_result",
          "data": {
            "text/plain": [
              "array([0.95035, 0.96035, 0.9604 ])"
            ]
          },
          "metadata": {},
          "execution_count": 69
        }
      ],
      "source": [
        "from sklearn.model_selection import cross_val_score\n",
        "\n",
        "cross_val_score(binary_classifier,  X_train, y_train_5, cv=3, scoring=\"accuracy\")"
      ]
    },
    {
      "cell_type": "markdown",
      "metadata": {
        "id": "2vZvBRvX_tDA"
      },
      "source": [
        "Le résultat ici est à nuancé, en effet le score affiche 95% de précision mais en réalité il y a peu de 5 donc lorsque le model ne reconnait pas un 5 il a 90% de chance d'avoir juste. (voir si dessous un le score d'un modèle qui renvooit faux à chaque fois)"
      ]
    },
    {
      "cell_type": "code",
      "execution_count": 70,
      "metadata": {
        "colab": {
          "base_uri": "https://localhost:8080/"
        },
        "id": "WoFzWMaqAUvd",
        "outputId": "3d813957-2416-42ef-9532-418a75f0b859"
      },
      "outputs": [
        {
          "output_type": "execute_result",
          "data": {
            "text/plain": [
              "array([0.90965, 0.90965, 0.90965])"
            ]
          },
          "metadata": {},
          "execution_count": 70
        }
      ],
      "source": [
        "from sklearn.dummy  import DummyClassifier\n",
        "\n",
        "dummy_clf = DummyClassifier()\n",
        "dummy_clf.fit(X_train, y_train_5)\n",
        "\n",
        "cross_val_score(dummy_clf, X_train, y_train_5, cv=3, scoring=\"accuracy\")"
      ]
    },
    {
      "cell_type": "markdown",
      "metadata": {
        "id": "TfoFu13-b2KI"
      },
      "source": [
        "Traçons d'abord la matrice de confusion : (5 , non 5)"
      ]
    },
    {
      "cell_type": "code",
      "execution_count": 71,
      "metadata": {
        "colab": {
          "base_uri": "https://localhost:8080/"
        },
        "id": "zybhP__Zb7Hw",
        "outputId": "4b571c74-e53b-4bdc-b5a1-f8ee9308b2be"
      },
      "outputs": [
        {
          "output_type": "execute_result",
          "data": {
            "text/plain": [
              "array([[53892,   687],\n",
              "       [ 1891,  3530]])"
            ]
          },
          "metadata": {},
          "execution_count": 71
        }
      ],
      "source": [
        "from sklearn.model_selection import cross_val_predict\n",
        "from sklearn.metrics import confusion_matrix\n",
        "\n",
        "y_train_prediction = cross_val_predict(binary_classifier, X_train, y_train_5, cv=3)\n",
        "cm = confusion_matrix(y_train_5, y_train_prediction)\n",
        "cm"
      ]
    },
    {
      "cell_type": "markdown",
      "metadata": {
        "id": "MavlVu6XdpQl"
      },
      "source": [
        "on peut lire la matrice de la façon suivante : 53 892 non 5 on été bien classés et 687 on été considérés comme des 5. En revanche 1891 5 on été considéré comme non 5"
      ]
    },
    {
      "cell_type": "markdown",
      "metadata": {
        "id": "ymoCvjlId7Yz"
      },
      "source": [
        "# **Définition de la précision**"
      ]
    },
    {
      "cell_type": "markdown",
      "metadata": {
        "id": "8dm8dNYDeBZL"
      },
      "source": [
        "précision = True positive /(True positive + False Positive)"
      ]
    },
    {
      "cell_type": "markdown",
      "metadata": {
        "id": "JJY-gooCeXPE"
      },
      "source": [
        "rappel = True positive /(True Positive + False Ngative)"
      ]
    },
    {
      "cell_type": "code",
      "execution_count": 72,
      "metadata": {
        "colab": {
          "base_uri": "https://localhost:8080/"
        },
        "id": "EqxFlNdWeN4z",
        "outputId": "f898961c-2c38-4b8b-8916-e5bf6bacecc6"
      },
      "outputs": [
        {
          "output_type": "execute_result",
          "data": {
            "text/plain": [
              "0.8370879772350012"
            ]
          },
          "metadata": {},
          "execution_count": 72
        }
      ],
      "source": [
        "from sklearn.metrics import precision_score, recall_score\n",
        "precision_score(y_train_5, y_train_prediction)"
      ]
    },
    {
      "cell_type": "markdown",
      "metadata": {
        "id": "TE7RUi-Ye5rW"
      },
      "source": [
        "lorsque le modèle affirme reconnaitre un 5, il y a 83,7% de chance d'avoir juste"
      ]
    },
    {
      "cell_type": "code",
      "execution_count": 73,
      "metadata": {
        "colab": {
          "base_uri": "https://localhost:8080/"
        },
        "id": "fqg982A0ev2K",
        "outputId": "e72c87b2-baf1-4c8a-e690-f2142d8bce4d"
      },
      "outputs": [
        {
          "output_type": "execute_result",
          "data": {
            "text/plain": [
              "0.6511713705958311"
            ]
          },
          "metadata": {},
          "execution_count": 73
        }
      ],
      "source": [
        "recall_score(y_train_5, y_train_prediction)"
      ]
    },
    {
      "cell_type": "markdown",
      "metadata": {
        "id": "3tJram1tfDf3"
      },
      "source": [
        "Le modèle détecte que 65.1% des 5"
      ]
    },
    {
      "cell_type": "markdown",
      "metadata": {
        "id": "LjYMsSBifUTa"
      },
      "source": [
        "On peut aussi définir le score F1 qui est la moyenne harmonique de la précision et du rappel"
      ]
    },
    {
      "cell_type": "markdown",
      "metadata": {
        "id": "NmPKEaMSfZde"
      },
      "source": [
        "F1 = 2/(1/rappel + 1/precision)"
      ]
    },
    {
      "cell_type": "code",
      "execution_count": 74,
      "metadata": {
        "colab": {
          "base_uri": "https://localhost:8080/"
        },
        "id": "9ZNiS0m3fON7",
        "outputId": "6e481e4e-e0a9-4aa6-dc3e-2398791143ca"
      },
      "outputs": [
        {
          "output_type": "execute_result",
          "data": {
            "text/plain": [
              "0.7325171197343846"
            ]
          },
          "metadata": {},
          "execution_count": 74
        }
      ],
      "source": [
        "from sklearn.metrics import f1_score\n",
        "\n",
        "f1_score(y_train_5,y_train_prediction)"
      ]
    },
    {
      "cell_type": "markdown",
      "metadata": {
        "id": "nrxWuNNMf2kb"
      },
      "source": [
        "Le score f1 favorise les classifieur ayant une précision et un rappel proche\n"
      ]
    },
    {
      "cell_type": "markdown",
      "metadata": {
        "id": "A5uK8gbvofB4"
      },
      "source": [
        "or parfois on préfére de pas sélectionner des élements valables pour limiter le risque et donc avoir une précision plus important -> faible rappel et haute précision"
      ]
    },
    {
      "cell_type": "markdown",
      "metadata": {
        "id": "XtfSj9wmpCE0"
      },
      "source": [
        "On peut aussi préférer un rappel plus haut et une précision plus faible en fonction des cas"
      ]
    },
    {
      "cell_type": "code",
      "execution_count": 75,
      "metadata": {
        "id": "qBNlxHD9pTgJ"
      },
      "outputs": [],
      "source": [
        "y_scores = cross_val_predict(binary_classifier, X_train, y_train_5, cv=3, method=\"decision_function\")"
      ]
    },
    {
      "cell_type": "code",
      "execution_count": 98,
      "metadata": {
        "id": "1qje3Mb5rXqA"
      },
      "outputs": [],
      "source": [
        "from sklearn.metrics import precision_recall_curve\n",
        "\n",
        "precisions, recalls, threshold = precision_recall_curve(y_train_5, y_scores)"
      ]
    },
    {
      "cell_type": "markdown",
      "metadata": {
        "id": "nipArRgbsm2s"
      },
      "source": [
        "on trace maintenant les courbes de précision et rappel en fonction du seuil"
      ]
    },
    {
      "cell_type": "code",
      "source": [
        "import numpy as np\n",
        "plt.figure(figsize=(10, 6))\n",
        "plt.grid(True)\n",
        "\n",
        "plt.plot(threshold, precisions[:-1], \"b--\", label=\"Précision\", linewidth=2)\n",
        "plt.plot(threshold, recalls[:-1], \"g-\", label=\"Rappel\", linewidth=2)\n",
        "plt.axvline(x=3000, color='r', linestyle='--', linewidth=2)\n",
        "\n",
        "\n",
        "plt.xlabel('Threshold')\n",
        "plt.ylabel('Score')\n",
        "plt.title('Précision et Rappel en fonction du seuil')\n",
        "\n",
        "plt.xlim(-50000, 40000)\n",
        "plt.legend()\n",
        "\n",
        "plt.show()"
      ],
      "metadata": {
        "colab": {
          "base_uri": "https://localhost:8080/",
          "height": 565
        },
        "id": "zpicBsX6yYn6",
        "outputId": "168d063e-3762-42ef-dbff-588a7e3df7a4"
      },
      "execution_count": 110,
      "outputs": [
        {
          "output_type": "display_data",
          "data": {
            "text/plain": [
              "<Figure size 1000x600 with 1 Axes>"
            ],
            "image/png": "[encoded data removed]"
          },
          "metadata": {}
        }
      ]
    },
    {
      "cell_type": "code",
      "source": [
        "plt.plot(precisions, recalls, linewidth=2, label=\"Courbe precision/rappel\")\n",
        "plt.legend()\n",
        "plt.show()"
      ],
      "metadata": {
        "colab": {
          "base_uri": "https://localhost:8080/",
          "height": 430
        },
        "id": "fkPuIYe_xJeo",
        "outputId": "07c522ed-351c-4208-bae1-1f035b023921"
      },
      "execution_count": 101,
      "outputs": [
        {
          "output_type": "display_data",
          "data": {
            "text/plain": [
              "<Figure size 640x480 with 1 Axes>"
            ],
            "image/png": "[encoded data removed]"
          },
          "metadata": {}
        }
      ]
    }
  ],
  "metadata": {
    "colab": {
      "provenance": []
    },
    "kernelspec": {
      "display_name": "Python 3",
      "name": "python3"
    },
    "language_info": {
      "name": "python"
    }
  },
  "nbformat": 4,
  "nbformat_minor": 0
}